{
 "cells": [
  {
   "cell_type": "markdown",
   "metadata": {},
   "source": [
    "<div style=\"text-align: center;\">\n",
    "  <img src=\"https://github.com/Hack-io-Data/Imagenes/blob/main/01-LogosHackio/logo_naranja@4x.png?raw=true\" alt=\"esquema\" />\n",
    "</div>\n",
    "\n",
    "\n",
    "# Laboratorio NLP + Sist. Recomendación\n",
    "\n",
    "\n",
    "En este laboratorio, tabrajaras con datos de reseñas de productos para construir un sistema de recomendación que utilice procesamiento de lenguaje natural (NLP) y *machine learning*. El objetivo principal es que analices el contenido textual de las reseñas, clasifiques las opiniones en categorías (positiva, negativa o neutra) y aproveches esta información para personalizar las recomendaciones. El sistema priorizará los productos con mejores reseñas para usuarios específicos y permitirá evaluar si el análisis de sentimientos mejora la calidad de las recomendaciones. Tareas propuestas:\n",
    "\n",
    "\n",
    "**Caso 1: Crear un sistema de recomendación**: Debes generar un sistema de recomendación para priorizar productos con las reseñas para cada usuario. Los pasos que deberás seguir son:    \n",
    "\n",
    "- Estructurar el conjunto de datos\n",
    "\n",
    "- Sistema basado en contenido\n",
    "\n",
    "\n",
    "**Caso 2: Clasificar reseñas en positivas, negativas o neutras** Deberás implementar un modelo para analizar las reseñas textuales y clasificarlas en tres categorías:\n",
    "\n",
    "- Positivas: Si el sentimiento de la reseña es favorable.\n",
    "\n",
    "- Negativas: Si el sentimiento de la reseña es desfavorable.\n",
    "\n",
    "- Neutras: Si la reseña no tiene un sentimiento claro.\n",
    "\t\n",
    "- Pasos :\n",
    "\t- Preprocesamiento de texto: Limpiar las reseñas eliminando caracteres especiales, palabras vacías (stopwords) y realizar lematización.\n",
    "\t\n",
    "\t- Identificar las reseñas positivas, negativas y neutrales. \n",
    "\n",
    "\n",
    "Los datos los tendréis en el [siguiente enlace](https://drive.google.com/drive/u/0/folders/1vK5zESy9KElRhm_utg_lHHXuUArrwWgu) con la descipción de cada una de las columnas.  "
   ]
  },
  {
   "cell_type": "markdown",
   "metadata": {},
   "source": [
    "# Caso 1"
   ]
  },
  {
   "cell_type": "code",
   "execution_count": 33,
   "metadata": {},
   "outputs": [
    {
     "name": "stdout",
     "output_type": "stream",
     "text": [
      "The autoreload extension is already loaded. To reload it, use:\n",
      "  %reload_ext autoreload\n"
     ]
    }
   ],
   "source": [
    "# Tratamiento de datos\n",
    "# -----------------------------------------------------------------------\n",
    "import pandas as pd\n",
    "\n",
    "\n",
    "# Visualizaciones\n",
    "# -----------------------------------------------------------------------\n",
    "import matplotlib.pyplot as plt\n",
    "import seaborn as sns\n",
    "\n",
    "\n",
    "# Para modelos NLP\n",
    "# -----------------------------------------------------------------------\n",
    "import spacy\n",
    "from nltk.corpus import stopwords\n",
    "import nltk\n",
    "from sklearn.feature_extraction.text import CountVectorizer, TfidfVectorizer\n",
    "from sklearn.metrics.pairwise import cosine_similarity\n",
    "\n",
    "\n",
    "# Configuración de pandas\n",
    "# -----------------------------------------------------------------------\n",
    "pd.set_option('display.max_columns', None)\n",
    "\n",
    "\n",
    "# Otros\n",
    "# -----------------------------------------------------------------------\n",
    "import warnings\n",
    "%load_ext autoreload\n",
    "%autoreload 2\n",
    "\n",
    "\n",
    "# Configración de warnings\n",
    "# -----------------------------------------------------------------------\n",
    "warnings.simplefilter(\"ignore\")\n",
    "\n",
    "import src.soporte_nlp as sn"
   ]
  },
  {
   "cell_type": "code",
   "execution_count": 34,
   "metadata": {},
   "outputs": [
    {
     "data": {
      "text/html": [
       "<div>\n",
       "<style scoped>\n",
       "    .dataframe tbody tr th:only-of-type {\n",
       "        vertical-align: middle;\n",
       "    }\n",
       "\n",
       "    .dataframe tbody tr th {\n",
       "        vertical-align: top;\n",
       "    }\n",
       "\n",
       "    .dataframe thead th {\n",
       "        text-align: right;\n",
       "    }\n",
       "</style>\n",
       "<table border=\"1\" class=\"dataframe\">\n",
       "  <thead>\n",
       "    <tr style=\"text-align: right;\">\n",
       "      <th></th>\n",
       "      <th>reviewId</th>\n",
       "      <th>reviewDate</th>\n",
       "      <th>mainDepartment</th>\n",
       "      <th>subDepartment</th>\n",
       "      <th>productName</th>\n",
       "      <th>reviewTitle</th>\n",
       "      <th>reviewStar</th>\n",
       "      <th>reviewText</th>\n",
       "      <th>inconsistentStatus</th>\n",
       "    </tr>\n",
       "  </thead>\n",
       "  <tbody>\n",
       "    <tr>\n",
       "      <th>65115</th>\n",
       "      <td>RXDM4W1ZL7L4L</td>\n",
       "      <td>Reviewed in the United States on June 22, 2021</td>\n",
       "      <td>Sports and Outdoors</td>\n",
       "      <td>Outdoor Recreation</td>\n",
       "      <td>Doctor Developed Copper Wrist Brace / Carpal T...</td>\n",
       "      <td>One size does not fit all.</td>\n",
       "      <td>3.0</td>\n",
       "      <td>Nice lightweight brace but unfortunately was t...</td>\n",
       "      <td>1</td>\n",
       "    </tr>\n",
       "    <tr>\n",
       "      <th>56720</th>\n",
       "      <td>R2GINAKQJOSWEL</td>\n",
       "      <td>Reviewed in the United States on August 27, 2021</td>\n",
       "      <td>Computers</td>\n",
       "      <td>Men's Clothing</td>\n",
       "      <td>Fruit of the Loom Men's Coolzone Boxer Briefs</td>\n",
       "      <td>They were ok but thats it</td>\n",
       "      <td>4.0</td>\n",
       "      <td>Boxers were ok. The color did start to fade pr...</td>\n",
       "      <td>0</td>\n",
       "    </tr>\n",
       "    <tr>\n",
       "      <th>26571</th>\n",
       "      <td>RD5R7T2JNP104</td>\n",
       "      <td>Reviewed in the United States on May 21, 2021</td>\n",
       "      <td>Computers</td>\n",
       "      <td>Networking Products</td>\n",
       "      <td>TP-Link AC750 WiFi Extender (RE220), Covers Up...</td>\n",
       "      <td>Good if you need a little extra.</td>\n",
       "      <td>4.0</td>\n",
       "      <td>Very easy to install. Worked right away but it...</td>\n",
       "      <td>0</td>\n",
       "    </tr>\n",
       "    <tr>\n",
       "      <th>40292</th>\n",
       "      <td>R3UEHJJ17E730C</td>\n",
       "      <td>Reviewed in the United States on March 7, 2021</td>\n",
       "      <td>Home and Kitchen</td>\n",
       "      <td>Bath</td>\n",
       "      <td>Gorilla Grip Luxury Chenille Bathroom Rug Mat,...</td>\n",
       "      <td>Color wrong!!!</td>\n",
       "      <td>1.0</td>\n",
       "      <td>The color is completely different than hunter ...</td>\n",
       "      <td>1</td>\n",
       "    </tr>\n",
       "    <tr>\n",
       "      <th>5884</th>\n",
       "      <td>R2257OUFMQ8P5C</td>\n",
       "      <td>Reviewed in the United States on October 17, 2020</td>\n",
       "      <td>Beauty and Personal Care</td>\n",
       "      <td>Hair Care</td>\n",
       "      <td>WOW Apple Cider Vinegar Shampoo and Hair Condi...</td>\n",
       "      <td>I have 4A hair</td>\n",
       "      <td>2.0</td>\n",
       "      <td>From reading the reviews, I was hoping that th...</td>\n",
       "      <td>0</td>\n",
       "    </tr>\n",
       "  </tbody>\n",
       "</table>\n",
       "</div>"
      ],
      "text/plain": [
       "             reviewId                                         reviewDate  \\\n",
       "65115   RXDM4W1ZL7L4L     Reviewed in the United States on June 22, 2021   \n",
       "56720  R2GINAKQJOSWEL   Reviewed in the United States on August 27, 2021   \n",
       "26571   RD5R7T2JNP104      Reviewed in the United States on May 21, 2021   \n",
       "40292  R3UEHJJ17E730C     Reviewed in the United States on March 7, 2021   \n",
       "5884   R2257OUFMQ8P5C  Reviewed in the United States on October 17, 2020   \n",
       "\n",
       "                 mainDepartment        subDepartment  \\\n",
       "65115       Sports and Outdoors   Outdoor Recreation   \n",
       "56720                 Computers       Men's Clothing   \n",
       "26571                 Computers  Networking Products   \n",
       "40292          Home and Kitchen                 Bath   \n",
       "5884   Beauty and Personal Care            Hair Care   \n",
       "\n",
       "                                             productName  \\\n",
       "65115  Doctor Developed Copper Wrist Brace / Carpal T...   \n",
       "56720      Fruit of the Loom Men's Coolzone Boxer Briefs   \n",
       "26571  TP-Link AC750 WiFi Extender (RE220), Covers Up...   \n",
       "40292  Gorilla Grip Luxury Chenille Bathroom Rug Mat,...   \n",
       "5884   WOW Apple Cider Vinegar Shampoo and Hair Condi...   \n",
       "\n",
       "                            reviewTitle  reviewStar  \\\n",
       "65115        One size does not fit all.         3.0   \n",
       "56720         They were ok but thats it         4.0   \n",
       "26571  Good if you need a little extra.         4.0   \n",
       "40292                    Color wrong!!!         1.0   \n",
       "5884                     I have 4A hair         2.0   \n",
       "\n",
       "                                              reviewText  inconsistentStatus  \n",
       "65115  Nice lightweight brace but unfortunately was t...                   1  \n",
       "56720  Boxers were ok. The color did start to fade pr...                   0  \n",
       "26571  Very easy to install. Worked right away but it...                   0  \n",
       "40292  The color is completely different than hunter ...                   1  \n",
       "5884   From reading the reviews, I was hoping that th...                   0  "
      ]
     },
     "execution_count": 34,
     "metadata": {},
     "output_type": "execute_result"
    }
   ],
   "source": [
    "df = pd.read_csv(\"datos/datos.csv\", index_col=0)\n",
    "df.head()"
   ]
  },
  {
   "cell_type": "code",
   "execution_count": 35,
   "metadata": {},
   "outputs": [
    {
     "data": {
      "text/plain": [
       "reviewId              0\n",
       "reviewDate            0\n",
       "mainDepartment        0\n",
       "subDepartment         0\n",
       "productName           0\n",
       "reviewTitle           5\n",
       "reviewStar            0\n",
       "reviewText            1\n",
       "inconsistentStatus    0\n",
       "dtype: int64"
      ]
     },
     "execution_count": 35,
     "metadata": {},
     "output_type": "execute_result"
    }
   ],
   "source": [
    "df.isnull().sum()"
   ]
  },
  {
   "cell_type": "code",
   "execution_count": 36,
   "metadata": {},
   "outputs": [
    {
     "name": "stdout",
     "output_type": "stream",
     "text": [
      "<class 'pandas.core.frame.DataFrame'>\n",
      "Index: 10000 entries, 65115 to 43619\n",
      "Data columns (total 9 columns):\n",
      " #   Column              Non-Null Count  Dtype  \n",
      "---  ------              --------------  -----  \n",
      " 0   reviewId            10000 non-null  object \n",
      " 1   reviewDate          10000 non-null  object \n",
      " 2   mainDepartment      10000 non-null  object \n",
      " 3   subDepartment       10000 non-null  object \n",
      " 4   productName         10000 non-null  object \n",
      " 5   reviewTitle         9995 non-null   object \n",
      " 6   reviewStar          10000 non-null  float64\n",
      " 7   reviewText          9999 non-null   object \n",
      " 8   inconsistentStatus  10000 non-null  int64  \n",
      "dtypes: float64(1), int64(1), object(7)\n",
      "memory usage: 781.2+ KB\n"
     ]
    }
   ],
   "source": [
    "df.info()"
   ]
  },
  {
   "cell_type": "markdown",
   "metadata": {},
   "source": [
    "- Eliminamos los 6 nulos que existen porque en comparación con el numero de entradas no nos genera perdida de información significante. Además comprobamos que se han eliminado correctamente."
   ]
  },
  {
   "cell_type": "code",
   "execution_count": 37,
   "metadata": {},
   "outputs": [
    {
     "data": {
      "text/plain": [
       "(9995, 9)"
      ]
     },
     "execution_count": 37,
     "metadata": {},
     "output_type": "execute_result"
    }
   ],
   "source": [
    "df.dropna(inplace=True)\n",
    "df.shape"
   ]
  },
  {
   "cell_type": "markdown",
   "metadata": {},
   "source": [
    "- Comprobamos si existen duplicados"
   ]
  },
  {
   "cell_type": "code",
   "execution_count": 38,
   "metadata": {},
   "outputs": [
    {
     "data": {
      "text/plain": [
       "np.int64(0)"
      ]
     },
     "execution_count": 38,
     "metadata": {},
     "output_type": "execute_result"
    }
   ],
   "source": [
    "df.duplicated().sum()"
   ]
  },
  {
   "cell_type": "markdown",
   "metadata": {},
   "source": [
    "- No existen duplicados"
   ]
  },
  {
   "cell_type": "code",
   "execution_count": 39,
   "metadata": {},
   "outputs": [
    {
     "data": {
      "text/plain": [
       "'Doctor Developed Copper Wrist Brace / Carpal Tunnel Wrist Brace / Wrist Support / Wrist Splint / Hand Brace -F.D.A. Class I Medical Device & Doctor Handbook -Night Support for Women & Men -Right & Left hands (Single)'"
      ]
     },
     "execution_count": 39,
     "metadata": {},
     "output_type": "execute_result"
    }
   ],
   "source": [
    "df[\"productName\"].values[0]"
   ]
  },
  {
   "cell_type": "code",
   "execution_count": 40,
   "metadata": {},
   "outputs": [
    {
     "data": {
      "text/html": [
       "<div>\n",
       "<style scoped>\n",
       "    .dataframe tbody tr th:only-of-type {\n",
       "        vertical-align: middle;\n",
       "    }\n",
       "\n",
       "    .dataframe tbody tr th {\n",
       "        vertical-align: top;\n",
       "    }\n",
       "\n",
       "    .dataframe thead th {\n",
       "        text-align: right;\n",
       "    }\n",
       "</style>\n",
       "<table border=\"1\" class=\"dataframe\">\n",
       "  <thead>\n",
       "    <tr style=\"text-align: right;\">\n",
       "      <th></th>\n",
       "      <th>reviewId</th>\n",
       "      <th>reviewDate</th>\n",
       "      <th>mainDepartment</th>\n",
       "      <th>subDepartment</th>\n",
       "      <th>productName</th>\n",
       "      <th>reviewTitle</th>\n",
       "      <th>reviewStar</th>\n",
       "      <th>reviewText</th>\n",
       "      <th>inconsistentStatus</th>\n",
       "    </tr>\n",
       "  </thead>\n",
       "  <tbody>\n",
       "    <tr>\n",
       "      <th>0</th>\n",
       "      <td>RXDM4W1ZL7L4L</td>\n",
       "      <td>Reviewed in the United States on June 22, 2021</td>\n",
       "      <td>Sports and Outdoors</td>\n",
       "      <td>Outdoor Recreation</td>\n",
       "      <td>Doctor Developed Copper Wrist Brace / Carpal T...</td>\n",
       "      <td>One size does not fit all.</td>\n",
       "      <td>3.0</td>\n",
       "      <td>Nice lightweight brace but unfortunately was t...</td>\n",
       "      <td>1</td>\n",
       "    </tr>\n",
       "    <tr>\n",
       "      <th>1</th>\n",
       "      <td>R2GINAKQJOSWEL</td>\n",
       "      <td>Reviewed in the United States on August 27, 2021</td>\n",
       "      <td>Computers</td>\n",
       "      <td>Men's Clothing</td>\n",
       "      <td>Fruit of the Loom Men's Coolzone Boxer Briefs</td>\n",
       "      <td>They were ok but thats it</td>\n",
       "      <td>4.0</td>\n",
       "      <td>Boxers were ok. The color did start to fade pr...</td>\n",
       "      <td>0</td>\n",
       "    </tr>\n",
       "    <tr>\n",
       "      <th>2</th>\n",
       "      <td>RD5R7T2JNP104</td>\n",
       "      <td>Reviewed in the United States on May 21, 2021</td>\n",
       "      <td>Computers</td>\n",
       "      <td>Networking Products</td>\n",
       "      <td>TP-Link AC750 WiFi Extender (RE220), Covers Up...</td>\n",
       "      <td>Good if you need a little extra.</td>\n",
       "      <td>4.0</td>\n",
       "      <td>Very easy to install. Worked right away but it...</td>\n",
       "      <td>0</td>\n",
       "    </tr>\n",
       "    <tr>\n",
       "      <th>3</th>\n",
       "      <td>R3UEHJJ17E730C</td>\n",
       "      <td>Reviewed in the United States on March 7, 2021</td>\n",
       "      <td>Home and Kitchen</td>\n",
       "      <td>Bath</td>\n",
       "      <td>Gorilla Grip Luxury Chenille Bathroom Rug Mat,...</td>\n",
       "      <td>Color wrong!!!</td>\n",
       "      <td>1.0</td>\n",
       "      <td>The color is completely different than hunter ...</td>\n",
       "      <td>1</td>\n",
       "    </tr>\n",
       "    <tr>\n",
       "      <th>4</th>\n",
       "      <td>R2257OUFMQ8P5C</td>\n",
       "      <td>Reviewed in the United States on October 17, 2020</td>\n",
       "      <td>Beauty and Personal Care</td>\n",
       "      <td>Hair Care</td>\n",
       "      <td>WOW Apple Cider Vinegar Shampoo and Hair Condi...</td>\n",
       "      <td>I have 4A hair</td>\n",
       "      <td>2.0</td>\n",
       "      <td>From reading the reviews, I was hoping that th...</td>\n",
       "      <td>0</td>\n",
       "    </tr>\n",
       "  </tbody>\n",
       "</table>\n",
       "</div>"
      ],
      "text/plain": [
       "         reviewId                                         reviewDate  \\\n",
       "0   RXDM4W1ZL7L4L     Reviewed in the United States on June 22, 2021   \n",
       "1  R2GINAKQJOSWEL   Reviewed in the United States on August 27, 2021   \n",
       "2   RD5R7T2JNP104      Reviewed in the United States on May 21, 2021   \n",
       "3  R3UEHJJ17E730C     Reviewed in the United States on March 7, 2021   \n",
       "4  R2257OUFMQ8P5C  Reviewed in the United States on October 17, 2020   \n",
       "\n",
       "             mainDepartment        subDepartment  \\\n",
       "0       Sports and Outdoors   Outdoor Recreation   \n",
       "1                 Computers       Men's Clothing   \n",
       "2                 Computers  Networking Products   \n",
       "3          Home and Kitchen                 Bath   \n",
       "4  Beauty and Personal Care            Hair Care   \n",
       "\n",
       "                                         productName  \\\n",
       "0  Doctor Developed Copper Wrist Brace / Carpal T...   \n",
       "1      Fruit of the Loom Men's Coolzone Boxer Briefs   \n",
       "2  TP-Link AC750 WiFi Extender (RE220), Covers Up...   \n",
       "3  Gorilla Grip Luxury Chenille Bathroom Rug Mat,...   \n",
       "4  WOW Apple Cider Vinegar Shampoo and Hair Condi...   \n",
       "\n",
       "                        reviewTitle  reviewStar  \\\n",
       "0        One size does not fit all.         3.0   \n",
       "1         They were ok but thats it         4.0   \n",
       "2  Good if you need a little extra.         4.0   \n",
       "3                    Color wrong!!!         1.0   \n",
       "4                    I have 4A hair         2.0   \n",
       "\n",
       "                                          reviewText  inconsistentStatus  \n",
       "0  Nice lightweight brace but unfortunately was t...                   1  \n",
       "1  Boxers were ok. The color did start to fade pr...                   0  \n",
       "2  Very easy to install. Worked right away but it...                   0  \n",
       "3  The color is completely different than hunter ...                   1  \n",
       "4  From reading the reviews, I was hoping that th...                   0  "
      ]
     },
     "execution_count": 40,
     "metadata": {},
     "output_type": "execute_result"
    }
   ],
   "source": [
    "df.reset_index(inplace=True, drop=True)\n",
    "df.head()"
   ]
  },
  {
   "cell_type": "markdown",
   "metadata": {},
   "source": [
    "# Modelo de recomendación basado en contenido"
   ]
  },
  {
   "cell_type": "markdown",
   "metadata": {},
   "source": [
    "- Descargamos las stopword"
   ]
  },
  {
   "cell_type": "code",
   "execution_count": 41,
   "metadata": {},
   "outputs": [
    {
     "data": {
      "text/plain": [
       "True"
      ]
     },
     "execution_count": 41,
     "metadata": {},
     "output_type": "execute_result"
    }
   ],
   "source": [
    "nltk.download(\"stopwords\", quiet=True)"
   ]
  },
  {
   "cell_type": "markdown",
   "metadata": {},
   "source": [
    "- Creamos un set con las stopwords en inglés y cargamos nlp con la tokenización en inglés"
   ]
  },
  {
   "cell_type": "code",
   "execution_count": 42,
   "metadata": {},
   "outputs": [],
   "source": [
    "stop_words = set(stopwords.words(\"english\"))\n",
    "nlp = spacy.load(\"en_core_web_sm\")"
   ]
  },
  {
   "cell_type": "markdown",
   "metadata": {},
   "source": [
    "- Creamos una lambda en el apply con la función para limpiar el texto"
   ]
  },
  {
   "cell_type": "code",
   "execution_count": 43,
   "metadata": {},
   "outputs": [
    {
     "data": {
      "text/html": [
       "<div>\n",
       "<style scoped>\n",
       "    .dataframe tbody tr th:only-of-type {\n",
       "        vertical-align: middle;\n",
       "    }\n",
       "\n",
       "    .dataframe tbody tr th {\n",
       "        vertical-align: top;\n",
       "    }\n",
       "\n",
       "    .dataframe thead th {\n",
       "        text-align: right;\n",
       "    }\n",
       "</style>\n",
       "<table border=\"1\" class=\"dataframe\">\n",
       "  <thead>\n",
       "    <tr style=\"text-align: right;\">\n",
       "      <th></th>\n",
       "      <th>reviewId</th>\n",
       "      <th>reviewDate</th>\n",
       "      <th>mainDepartment</th>\n",
       "      <th>subDepartment</th>\n",
       "      <th>productName</th>\n",
       "      <th>reviewTitle</th>\n",
       "      <th>reviewStar</th>\n",
       "      <th>reviewText</th>\n",
       "      <th>inconsistentStatus</th>\n",
       "      <th>texto_limpio</th>\n",
       "    </tr>\n",
       "  </thead>\n",
       "  <tbody>\n",
       "    <tr>\n",
       "      <th>0</th>\n",
       "      <td>RXDM4W1ZL7L4L</td>\n",
       "      <td>Reviewed in the United States on June 22, 2021</td>\n",
       "      <td>Sports and Outdoors</td>\n",
       "      <td>Outdoor Recreation</td>\n",
       "      <td>Doctor Developed Copper Wrist Brace / Carpal T...</td>\n",
       "      <td>One size does not fit all.</td>\n",
       "      <td>3.0</td>\n",
       "      <td>Nice lightweight brace but unfortunately was t...</td>\n",
       "      <td>1</td>\n",
       "      <td>[doctor, develop, copper, wrist, brace, carpal...</td>\n",
       "    </tr>\n",
       "    <tr>\n",
       "      <th>1</th>\n",
       "      <td>R2GINAKQJOSWEL</td>\n",
       "      <td>Reviewed in the United States on August 27, 2021</td>\n",
       "      <td>Computers</td>\n",
       "      <td>Men's Clothing</td>\n",
       "      <td>Fruit of the Loom Men's Coolzone Boxer Briefs</td>\n",
       "      <td>They were ok but thats it</td>\n",
       "      <td>4.0</td>\n",
       "      <td>Boxers were ok. The color did start to fade pr...</td>\n",
       "      <td>0</td>\n",
       "      <td>[fruit, loom, men, coolzone, boxer, brief]</td>\n",
       "    </tr>\n",
       "    <tr>\n",
       "      <th>2</th>\n",
       "      <td>RD5R7T2JNP104</td>\n",
       "      <td>Reviewed in the United States on May 21, 2021</td>\n",
       "      <td>Computers</td>\n",
       "      <td>Networking Products</td>\n",
       "      <td>TP-Link AC750 WiFi Extender (RE220), Covers Up...</td>\n",
       "      <td>Good if you need a little extra.</td>\n",
       "      <td>4.0</td>\n",
       "      <td>Very easy to install. Worked right away but it...</td>\n",
       "      <td>0</td>\n",
       "      <td>[tplink, ac750, wifi, extender, re220, cover, ...</td>\n",
       "    </tr>\n",
       "    <tr>\n",
       "      <th>3</th>\n",
       "      <td>R3UEHJJ17E730C</td>\n",
       "      <td>Reviewed in the United States on March 7, 2021</td>\n",
       "      <td>Home and Kitchen</td>\n",
       "      <td>Bath</td>\n",
       "      <td>Gorilla Grip Luxury Chenille Bathroom Rug Mat,...</td>\n",
       "      <td>Color wrong!!!</td>\n",
       "      <td>1.0</td>\n",
       "      <td>The color is completely different than hunter ...</td>\n",
       "      <td>1</td>\n",
       "      <td>[gorilla, grip, luxury, chenille, bathroom, ru...</td>\n",
       "    </tr>\n",
       "    <tr>\n",
       "      <th>4</th>\n",
       "      <td>R2257OUFMQ8P5C</td>\n",
       "      <td>Reviewed in the United States on October 17, 2020</td>\n",
       "      <td>Beauty and Personal Care</td>\n",
       "      <td>Hair Care</td>\n",
       "      <td>WOW Apple Cider Vinegar Shampoo and Hair Condi...</td>\n",
       "      <td>I have 4A hair</td>\n",
       "      <td>2.0</td>\n",
       "      <td>From reading the reviews, I was hoping that th...</td>\n",
       "      <td>0</td>\n",
       "      <td>[wow, apple, cider, vinegar, shampoo, hair, co...</td>\n",
       "    </tr>\n",
       "  </tbody>\n",
       "</table>\n",
       "</div>"
      ],
      "text/plain": [
       "         reviewId                                         reviewDate  \\\n",
       "0   RXDM4W1ZL7L4L     Reviewed in the United States on June 22, 2021   \n",
       "1  R2GINAKQJOSWEL   Reviewed in the United States on August 27, 2021   \n",
       "2   RD5R7T2JNP104      Reviewed in the United States on May 21, 2021   \n",
       "3  R3UEHJJ17E730C     Reviewed in the United States on March 7, 2021   \n",
       "4  R2257OUFMQ8P5C  Reviewed in the United States on October 17, 2020   \n",
       "\n",
       "             mainDepartment        subDepartment  \\\n",
       "0       Sports and Outdoors   Outdoor Recreation   \n",
       "1                 Computers       Men's Clothing   \n",
       "2                 Computers  Networking Products   \n",
       "3          Home and Kitchen                 Bath   \n",
       "4  Beauty and Personal Care            Hair Care   \n",
       "\n",
       "                                         productName  \\\n",
       "0  Doctor Developed Copper Wrist Brace / Carpal T...   \n",
       "1      Fruit of the Loom Men's Coolzone Boxer Briefs   \n",
       "2  TP-Link AC750 WiFi Extender (RE220), Covers Up...   \n",
       "3  Gorilla Grip Luxury Chenille Bathroom Rug Mat,...   \n",
       "4  WOW Apple Cider Vinegar Shampoo and Hair Condi...   \n",
       "\n",
       "                        reviewTitle  reviewStar  \\\n",
       "0        One size does not fit all.         3.0   \n",
       "1         They were ok but thats it         4.0   \n",
       "2  Good if you need a little extra.         4.0   \n",
       "3                    Color wrong!!!         1.0   \n",
       "4                    I have 4A hair         2.0   \n",
       "\n",
       "                                          reviewText  inconsistentStatus  \\\n",
       "0  Nice lightweight brace but unfortunately was t...                   1   \n",
       "1  Boxers were ok. The color did start to fade pr...                   0   \n",
       "2  Very easy to install. Worked right away but it...                   0   \n",
       "3  The color is completely different than hunter ...                   1   \n",
       "4  From reading the reviews, I was hoping that th...                   0   \n",
       "\n",
       "                                        texto_limpio  \n",
       "0  [doctor, develop, copper, wrist, brace, carpal...  \n",
       "1         [fruit, loom, men, coolzone, boxer, brief]  \n",
       "2  [tplink, ac750, wifi, extender, re220, cover, ...  \n",
       "3  [gorilla, grip, luxury, chenille, bathroom, ru...  \n",
       "4  [wow, apple, cider, vinegar, shampoo, hair, co...  "
      ]
     },
     "execution_count": 43,
     "metadata": {},
     "output_type": "execute_result"
    }
   ],
   "source": [
    "df[\"texto_limpio\"] = df[\"productName\"].apply(lambda text: sn.limpiar_texto(text, nlp, stop_words))\n",
    "df.head()"
   ]
  },
  {
   "cell_type": "markdown",
   "metadata": {},
   "source": [
    "- Hacemos un join para limpiar la lista y dejarlo en un unico string"
   ]
  },
  {
   "cell_type": "code",
   "execution_count": 44,
   "metadata": {},
   "outputs": [],
   "source": [
    "df[\"texto_limpio\"] = df[\"texto_limpio\"].str.join(\" \")"
   ]
  },
  {
   "cell_type": "code",
   "execution_count": 45,
   "metadata": {},
   "outputs": [
    {
     "data": {
      "text/plain": [
       "'doctor develop copper wrist brace carpal tunnel wrist brace wrist support wrist splint hand brace fda class medical device doctor handbook night support woman man right leave hand single'"
      ]
     },
     "execution_count": 45,
     "metadata": {},
     "output_type": "execute_result"
    }
   ],
   "source": [
    "df[\"texto_limpio\"].values[0]"
   ]
  },
  {
   "cell_type": "markdown",
   "metadata": {},
   "source": [
    "- Agrupamos por productName para tener los 99 productos agrupados con todas sus reseñas"
   ]
  },
  {
   "cell_type": "code",
   "execution_count": 46,
   "metadata": {},
   "outputs": [],
   "source": [
    "df_agrupado = df.groupby(\"productName\")[['mainDepartment', 'subDepartment', 'texto_limpio', 'reviewStar', 'reviewText']].agg(departamento=('mainDepartment', 'first'), subDepartamento=(\"subDepartment\",\"first\"), producto=(\"texto_limpio\",\"first\"), estrellas=(\"reviewStar\",\"mean\"), reseñas=('reviewText', ' '.join))"
   ]
  },
  {
   "cell_type": "markdown",
   "metadata": {},
   "source": [
    "- Reseteamos el index para reordenar las posiciones"
   ]
  },
  {
   "cell_type": "code",
   "execution_count": 47,
   "metadata": {},
   "outputs": [],
   "source": [
    "df_agrupado.reset_index(inplace=True)"
   ]
  },
  {
   "cell_type": "code",
   "execution_count": 48,
   "metadata": {},
   "outputs": [
    {
     "data": {
      "text/html": [
       "<div>\n",
       "<style scoped>\n",
       "    .dataframe tbody tr th:only-of-type {\n",
       "        vertical-align: middle;\n",
       "    }\n",
       "\n",
       "    .dataframe tbody tr th {\n",
       "        vertical-align: top;\n",
       "    }\n",
       "\n",
       "    .dataframe thead th {\n",
       "        text-align: right;\n",
       "    }\n",
       "</style>\n",
       "<table border=\"1\" class=\"dataframe\">\n",
       "  <thead>\n",
       "    <tr style=\"text-align: right;\">\n",
       "      <th></th>\n",
       "      <th>productName</th>\n",
       "      <th>departamento</th>\n",
       "      <th>subDepartamento</th>\n",
       "      <th>producto</th>\n",
       "      <th>estrellas</th>\n",
       "      <th>reseñas</th>\n",
       "    </tr>\n",
       "  </thead>\n",
       "  <tbody>\n",
       "    <tr>\n",
       "      <th>0</th>\n",
       "      <td>(Refurbished) Apple iPhone 7, 32GB, Black - Fu...</td>\n",
       "      <td>Electronics</td>\n",
       "      <td>CellPhones and Accessories</td>\n",
       "      <td>refurbish apple iphone 7 32 gb black fully unl...</td>\n",
       "      <td>2.912000</td>\n",
       "      <td>I’ll admit I was very skeptical from reviews b...</td>\n",
       "    </tr>\n",
       "    <tr>\n",
       "      <th>1</th>\n",
       "      <td>AIMEILI Gel Nail Polish No Wipe Top and Base C...</td>\n",
       "      <td>Beauty and Personal Care</td>\n",
       "      <td>Foot,Hand &amp; Nail Care</td>\n",
       "      <td>aimeili gel nail polish wipe top base coat set...</td>\n",
       "      <td>3.077419</td>\n",
       "      <td>It’s thick, but works good once you get used t...</td>\n",
       "    </tr>\n",
       "    <tr>\n",
       "      <th>2</th>\n",
       "      <td>AKASO EK7000 4K30FPS Action Camera Ultra HD Un...</td>\n",
       "      <td>Electronics</td>\n",
       "      <td>Camera and Accessories</td>\n",
       "      <td>akaso ek7000 4k30fps action camera ultra hd un...</td>\n",
       "      <td>2.855932</td>\n",
       "      <td>I was not impressed with the image quality.  A...</td>\n",
       "    </tr>\n",
       "    <tr>\n",
       "      <th>3</th>\n",
       "      <td>ASUS Laptop L210 Ultra Thin Laptop, 11.6” HD D...</td>\n",
       "      <td>Computers</td>\n",
       "      <td>Computers &amp; Tablets</td>\n",
       "      <td>asus laptop l210 ultra thin laptop 116 hd disp...</td>\n",
       "      <td>3.049180</td>\n",
       "      <td>The laptop arrived just in time for school!! W...</td>\n",
       "    </tr>\n",
       "    <tr>\n",
       "      <th>4</th>\n",
       "      <td>Acer Aspire 5 A515-46-R14K Slim Laptop | 15.6\"...</td>\n",
       "      <td>Computers</td>\n",
       "      <td>Computers &amp; Tablets</td>\n",
       "      <td>acer aspire 5 a51546r14k slim laptop 156 full ...</td>\n",
       "      <td>2.932331</td>\n",
       "      <td>Bought for school work. Doing good so far.Slee...</td>\n",
       "    </tr>\n",
       "  </tbody>\n",
       "</table>\n",
       "</div>"
      ],
      "text/plain": [
       "                                         productName  \\\n",
       "0  (Refurbished) Apple iPhone 7, 32GB, Black - Fu...   \n",
       "1  AIMEILI Gel Nail Polish No Wipe Top and Base C...   \n",
       "2  AKASO EK7000 4K30FPS Action Camera Ultra HD Un...   \n",
       "3  ASUS Laptop L210 Ultra Thin Laptop, 11.6” HD D...   \n",
       "4  Acer Aspire 5 A515-46-R14K Slim Laptop | 15.6\"...   \n",
       "\n",
       "               departamento             subDepartamento  \\\n",
       "0               Electronics  CellPhones and Accessories   \n",
       "1  Beauty and Personal Care       Foot,Hand & Nail Care   \n",
       "2               Electronics      Camera and Accessories   \n",
       "3                 Computers         Computers & Tablets   \n",
       "4                 Computers         Computers & Tablets   \n",
       "\n",
       "                                            producto  estrellas  \\\n",
       "0  refurbish apple iphone 7 32 gb black fully unl...   2.912000   \n",
       "1  aimeili gel nail polish wipe top base coat set...   3.077419   \n",
       "2  akaso ek7000 4k30fps action camera ultra hd un...   2.855932   \n",
       "3  asus laptop l210 ultra thin laptop 116 hd disp...   3.049180   \n",
       "4  acer aspire 5 a51546r14k slim laptop 156 full ...   2.932331   \n",
       "\n",
       "                                             reseñas  \n",
       "0  I’ll admit I was very skeptical from reviews b...  \n",
       "1  It’s thick, but works good once you get used t...  \n",
       "2  I was not impressed with the image quality.  A...  \n",
       "3  The laptop arrived just in time for school!! W...  \n",
       "4  Bought for school work. Doing good so far.Slee...  "
      ]
     },
     "execution_count": 48,
     "metadata": {},
     "output_type": "execute_result"
    }
   ],
   "source": [
    "df_agrupado.head()"
   ]
  },
  {
   "cell_type": "markdown",
   "metadata": {},
   "source": [
    "- Creamos el vetorizador con las stopwords en inglés. Hacemos fit transform de la columna reseñas y posteriormente sacar la similitud entre las palabras."
   ]
  },
  {
   "cell_type": "code",
   "execution_count": 49,
   "metadata": {},
   "outputs": [
    {
     "data": {
      "text/html": [
       "<style>#sk-container-id-2 {\n",
       "  /* Definition of color scheme common for light and dark mode */\n",
       "  --sklearn-color-text: #000;\n",
       "  --sklearn-color-text-muted: #666;\n",
       "  --sklearn-color-line: gray;\n",
       "  /* Definition of color scheme for unfitted estimators */\n",
       "  --sklearn-color-unfitted-level-0: #fff5e6;\n",
       "  --sklearn-color-unfitted-level-1: #f6e4d2;\n",
       "  --sklearn-color-unfitted-level-2: #ffe0b3;\n",
       "  --sklearn-color-unfitted-level-3: chocolate;\n",
       "  /* Definition of color scheme for fitted estimators */\n",
       "  --sklearn-color-fitted-level-0: #f0f8ff;\n",
       "  --sklearn-color-fitted-level-1: #d4ebff;\n",
       "  --sklearn-color-fitted-level-2: #b3dbfd;\n",
       "  --sklearn-color-fitted-level-3: cornflowerblue;\n",
       "\n",
       "  /* Specific color for light theme */\n",
       "  --sklearn-color-text-on-default-background: var(--sg-text-color, var(--theme-code-foreground, var(--jp-content-font-color1, black)));\n",
       "  --sklearn-color-background: var(--sg-background-color, var(--theme-background, var(--jp-layout-color0, white)));\n",
       "  --sklearn-color-border-box: var(--sg-text-color, var(--theme-code-foreground, var(--jp-content-font-color1, black)));\n",
       "  --sklearn-color-icon: #696969;\n",
       "\n",
       "  @media (prefers-color-scheme: dark) {\n",
       "    /* Redefinition of color scheme for dark theme */\n",
       "    --sklearn-color-text-on-default-background: var(--sg-text-color, var(--theme-code-foreground, var(--jp-content-font-color1, white)));\n",
       "    --sklearn-color-background: var(--sg-background-color, var(--theme-background, var(--jp-layout-color0, #111)));\n",
       "    --sklearn-color-border-box: var(--sg-text-color, var(--theme-code-foreground, var(--jp-content-font-color1, white)));\n",
       "    --sklearn-color-icon: #878787;\n",
       "  }\n",
       "}\n",
       "\n",
       "#sk-container-id-2 {\n",
       "  color: var(--sklearn-color-text);\n",
       "}\n",
       "\n",
       "#sk-container-id-2 pre {\n",
       "  padding: 0;\n",
       "}\n",
       "\n",
       "#sk-container-id-2 input.sk-hidden--visually {\n",
       "  border: 0;\n",
       "  clip: rect(1px 1px 1px 1px);\n",
       "  clip: rect(1px, 1px, 1px, 1px);\n",
       "  height: 1px;\n",
       "  margin: -1px;\n",
       "  overflow: hidden;\n",
       "  padding: 0;\n",
       "  position: absolute;\n",
       "  width: 1px;\n",
       "}\n",
       "\n",
       "#sk-container-id-2 div.sk-dashed-wrapped {\n",
       "  border: 1px dashed var(--sklearn-color-line);\n",
       "  margin: 0 0.4em 0.5em 0.4em;\n",
       "  box-sizing: border-box;\n",
       "  padding-bottom: 0.4em;\n",
       "  background-color: var(--sklearn-color-background);\n",
       "}\n",
       "\n",
       "#sk-container-id-2 div.sk-container {\n",
       "  /* jupyter's `normalize.less` sets `[hidden] { display: none; }`\n",
       "     but bootstrap.min.css set `[hidden] { display: none !important; }`\n",
       "     so we also need the `!important` here to be able to override the\n",
       "     default hidden behavior on the sphinx rendered scikit-learn.org.\n",
       "     See: https://github.com/scikit-learn/scikit-learn/issues/21755 */\n",
       "  display: inline-block !important;\n",
       "  position: relative;\n",
       "}\n",
       "\n",
       "#sk-container-id-2 div.sk-text-repr-fallback {\n",
       "  display: none;\n",
       "}\n",
       "\n",
       "div.sk-parallel-item,\n",
       "div.sk-serial,\n",
       "div.sk-item {\n",
       "  /* draw centered vertical line to link estimators */\n",
       "  background-image: linear-gradient(var(--sklearn-color-text-on-default-background), var(--sklearn-color-text-on-default-background));\n",
       "  background-size: 2px 100%;\n",
       "  background-repeat: no-repeat;\n",
       "  background-position: center center;\n",
       "}\n",
       "\n",
       "/* Parallel-specific style estimator block */\n",
       "\n",
       "#sk-container-id-2 div.sk-parallel-item::after {\n",
       "  content: \"\";\n",
       "  width: 100%;\n",
       "  border-bottom: 2px solid var(--sklearn-color-text-on-default-background);\n",
       "  flex-grow: 1;\n",
       "}\n",
       "\n",
       "#sk-container-id-2 div.sk-parallel {\n",
       "  display: flex;\n",
       "  align-items: stretch;\n",
       "  justify-content: center;\n",
       "  background-color: var(--sklearn-color-background);\n",
       "  position: relative;\n",
       "}\n",
       "\n",
       "#sk-container-id-2 div.sk-parallel-item {\n",
       "  display: flex;\n",
       "  flex-direction: column;\n",
       "}\n",
       "\n",
       "#sk-container-id-2 div.sk-parallel-item:first-child::after {\n",
       "  align-self: flex-end;\n",
       "  width: 50%;\n",
       "}\n",
       "\n",
       "#sk-container-id-2 div.sk-parallel-item:last-child::after {\n",
       "  align-self: flex-start;\n",
       "  width: 50%;\n",
       "}\n",
       "\n",
       "#sk-container-id-2 div.sk-parallel-item:only-child::after {\n",
       "  width: 0;\n",
       "}\n",
       "\n",
       "/* Serial-specific style estimator block */\n",
       "\n",
       "#sk-container-id-2 div.sk-serial {\n",
       "  display: flex;\n",
       "  flex-direction: column;\n",
       "  align-items: center;\n",
       "  background-color: var(--sklearn-color-background);\n",
       "  padding-right: 1em;\n",
       "  padding-left: 1em;\n",
       "}\n",
       "\n",
       "\n",
       "/* Toggleable style: style used for estimator/Pipeline/ColumnTransformer box that is\n",
       "clickable and can be expanded/collapsed.\n",
       "- Pipeline and ColumnTransformer use this feature and define the default style\n",
       "- Estimators will overwrite some part of the style using the `sk-estimator` class\n",
       "*/\n",
       "\n",
       "/* Pipeline and ColumnTransformer style (default) */\n",
       "\n",
       "#sk-container-id-2 div.sk-toggleable {\n",
       "  /* Default theme specific background. It is overwritten whether we have a\n",
       "  specific estimator or a Pipeline/ColumnTransformer */\n",
       "  background-color: var(--sklearn-color-background);\n",
       "}\n",
       "\n",
       "/* Toggleable label */\n",
       "#sk-container-id-2 label.sk-toggleable__label {\n",
       "  cursor: pointer;\n",
       "  display: flex;\n",
       "  width: 100%;\n",
       "  margin-bottom: 0;\n",
       "  padding: 0.5em;\n",
       "  box-sizing: border-box;\n",
       "  text-align: center;\n",
       "  align-items: start;\n",
       "  justify-content: space-between;\n",
       "  gap: 0.5em;\n",
       "}\n",
       "\n",
       "#sk-container-id-2 label.sk-toggleable__label .caption {\n",
       "  font-size: 0.6rem;\n",
       "  font-weight: lighter;\n",
       "  color: var(--sklearn-color-text-muted);\n",
       "}\n",
       "\n",
       "#sk-container-id-2 label.sk-toggleable__label-arrow:before {\n",
       "  /* Arrow on the left of the label */\n",
       "  content: \"▸\";\n",
       "  float: left;\n",
       "  margin-right: 0.25em;\n",
       "  color: var(--sklearn-color-icon);\n",
       "}\n",
       "\n",
       "#sk-container-id-2 label.sk-toggleable__label-arrow:hover:before {\n",
       "  color: var(--sklearn-color-text);\n",
       "}\n",
       "\n",
       "/* Toggleable content - dropdown */\n",
       "\n",
       "#sk-container-id-2 div.sk-toggleable__content {\n",
       "  max-height: 0;\n",
       "  max-width: 0;\n",
       "  overflow: hidden;\n",
       "  text-align: left;\n",
       "  /* unfitted */\n",
       "  background-color: var(--sklearn-color-unfitted-level-0);\n",
       "}\n",
       "\n",
       "#sk-container-id-2 div.sk-toggleable__content.fitted {\n",
       "  /* fitted */\n",
       "  background-color: var(--sklearn-color-fitted-level-0);\n",
       "}\n",
       "\n",
       "#sk-container-id-2 div.sk-toggleable__content pre {\n",
       "  margin: 0.2em;\n",
       "  border-radius: 0.25em;\n",
       "  color: var(--sklearn-color-text);\n",
       "  /* unfitted */\n",
       "  background-color: var(--sklearn-color-unfitted-level-0);\n",
       "}\n",
       "\n",
       "#sk-container-id-2 div.sk-toggleable__content.fitted pre {\n",
       "  /* unfitted */\n",
       "  background-color: var(--sklearn-color-fitted-level-0);\n",
       "}\n",
       "\n",
       "#sk-container-id-2 input.sk-toggleable__control:checked~div.sk-toggleable__content {\n",
       "  /* Expand drop-down */\n",
       "  max-height: 200px;\n",
       "  max-width: 100%;\n",
       "  overflow: auto;\n",
       "}\n",
       "\n",
       "#sk-container-id-2 input.sk-toggleable__control:checked~label.sk-toggleable__label-arrow:before {\n",
       "  content: \"▾\";\n",
       "}\n",
       "\n",
       "/* Pipeline/ColumnTransformer-specific style */\n",
       "\n",
       "#sk-container-id-2 div.sk-label input.sk-toggleable__control:checked~label.sk-toggleable__label {\n",
       "  color: var(--sklearn-color-text);\n",
       "  background-color: var(--sklearn-color-unfitted-level-2);\n",
       "}\n",
       "\n",
       "#sk-container-id-2 div.sk-label.fitted input.sk-toggleable__control:checked~label.sk-toggleable__label {\n",
       "  background-color: var(--sklearn-color-fitted-level-2);\n",
       "}\n",
       "\n",
       "/* Estimator-specific style */\n",
       "\n",
       "/* Colorize estimator box */\n",
       "#sk-container-id-2 div.sk-estimator input.sk-toggleable__control:checked~label.sk-toggleable__label {\n",
       "  /* unfitted */\n",
       "  background-color: var(--sklearn-color-unfitted-level-2);\n",
       "}\n",
       "\n",
       "#sk-container-id-2 div.sk-estimator.fitted input.sk-toggleable__control:checked~label.sk-toggleable__label {\n",
       "  /* fitted */\n",
       "  background-color: var(--sklearn-color-fitted-level-2);\n",
       "}\n",
       "\n",
       "#sk-container-id-2 div.sk-label label.sk-toggleable__label,\n",
       "#sk-container-id-2 div.sk-label label {\n",
       "  /* The background is the default theme color */\n",
       "  color: var(--sklearn-color-text-on-default-background);\n",
       "}\n",
       "\n",
       "/* On hover, darken the color of the background */\n",
       "#sk-container-id-2 div.sk-label:hover label.sk-toggleable__label {\n",
       "  color: var(--sklearn-color-text);\n",
       "  background-color: var(--sklearn-color-unfitted-level-2);\n",
       "}\n",
       "\n",
       "/* Label box, darken color on hover, fitted */\n",
       "#sk-container-id-2 div.sk-label.fitted:hover label.sk-toggleable__label.fitted {\n",
       "  color: var(--sklearn-color-text);\n",
       "  background-color: var(--sklearn-color-fitted-level-2);\n",
       "}\n",
       "\n",
       "/* Estimator label */\n",
       "\n",
       "#sk-container-id-2 div.sk-label label {\n",
       "  font-family: monospace;\n",
       "  font-weight: bold;\n",
       "  display: inline-block;\n",
       "  line-height: 1.2em;\n",
       "}\n",
       "\n",
       "#sk-container-id-2 div.sk-label-container {\n",
       "  text-align: center;\n",
       "}\n",
       "\n",
       "/* Estimator-specific */\n",
       "#sk-container-id-2 div.sk-estimator {\n",
       "  font-family: monospace;\n",
       "  border: 1px dotted var(--sklearn-color-border-box);\n",
       "  border-radius: 0.25em;\n",
       "  box-sizing: border-box;\n",
       "  margin-bottom: 0.5em;\n",
       "  /* unfitted */\n",
       "  background-color: var(--sklearn-color-unfitted-level-0);\n",
       "}\n",
       "\n",
       "#sk-container-id-2 div.sk-estimator.fitted {\n",
       "  /* fitted */\n",
       "  background-color: var(--sklearn-color-fitted-level-0);\n",
       "}\n",
       "\n",
       "/* on hover */\n",
       "#sk-container-id-2 div.sk-estimator:hover {\n",
       "  /* unfitted */\n",
       "  background-color: var(--sklearn-color-unfitted-level-2);\n",
       "}\n",
       "\n",
       "#sk-container-id-2 div.sk-estimator.fitted:hover {\n",
       "  /* fitted */\n",
       "  background-color: var(--sklearn-color-fitted-level-2);\n",
       "}\n",
       "\n",
       "/* Specification for estimator info (e.g. \"i\" and \"?\") */\n",
       "\n",
       "/* Common style for \"i\" and \"?\" */\n",
       "\n",
       ".sk-estimator-doc-link,\n",
       "a:link.sk-estimator-doc-link,\n",
       "a:visited.sk-estimator-doc-link {\n",
       "  float: right;\n",
       "  font-size: smaller;\n",
       "  line-height: 1em;\n",
       "  font-family: monospace;\n",
       "  background-color: var(--sklearn-color-background);\n",
       "  border-radius: 1em;\n",
       "  height: 1em;\n",
       "  width: 1em;\n",
       "  text-decoration: none !important;\n",
       "  margin-left: 0.5em;\n",
       "  text-align: center;\n",
       "  /* unfitted */\n",
       "  border: var(--sklearn-color-unfitted-level-1) 1pt solid;\n",
       "  color: var(--sklearn-color-unfitted-level-1);\n",
       "}\n",
       "\n",
       ".sk-estimator-doc-link.fitted,\n",
       "a:link.sk-estimator-doc-link.fitted,\n",
       "a:visited.sk-estimator-doc-link.fitted {\n",
       "  /* fitted */\n",
       "  border: var(--sklearn-color-fitted-level-1) 1pt solid;\n",
       "  color: var(--sklearn-color-fitted-level-1);\n",
       "}\n",
       "\n",
       "/* On hover */\n",
       "div.sk-estimator:hover .sk-estimator-doc-link:hover,\n",
       ".sk-estimator-doc-link:hover,\n",
       "div.sk-label-container:hover .sk-estimator-doc-link:hover,\n",
       ".sk-estimator-doc-link:hover {\n",
       "  /* unfitted */\n",
       "  background-color: var(--sklearn-color-unfitted-level-3);\n",
       "  color: var(--sklearn-color-background);\n",
       "  text-decoration: none;\n",
       "}\n",
       "\n",
       "div.sk-estimator.fitted:hover .sk-estimator-doc-link.fitted:hover,\n",
       ".sk-estimator-doc-link.fitted:hover,\n",
       "div.sk-label-container:hover .sk-estimator-doc-link.fitted:hover,\n",
       ".sk-estimator-doc-link.fitted:hover {\n",
       "  /* fitted */\n",
       "  background-color: var(--sklearn-color-fitted-level-3);\n",
       "  color: var(--sklearn-color-background);\n",
       "  text-decoration: none;\n",
       "}\n",
       "\n",
       "/* Span, style for the box shown on hovering the info icon */\n",
       ".sk-estimator-doc-link span {\n",
       "  display: none;\n",
       "  z-index: 9999;\n",
       "  position: relative;\n",
       "  font-weight: normal;\n",
       "  right: .2ex;\n",
       "  padding: .5ex;\n",
       "  margin: .5ex;\n",
       "  width: min-content;\n",
       "  min-width: 20ex;\n",
       "  max-width: 50ex;\n",
       "  color: var(--sklearn-color-text);\n",
       "  box-shadow: 2pt 2pt 4pt #999;\n",
       "  /* unfitted */\n",
       "  background: var(--sklearn-color-unfitted-level-0);\n",
       "  border: .5pt solid var(--sklearn-color-unfitted-level-3);\n",
       "}\n",
       "\n",
       ".sk-estimator-doc-link.fitted span {\n",
       "  /* fitted */\n",
       "  background: var(--sklearn-color-fitted-level-0);\n",
       "  border: var(--sklearn-color-fitted-level-3);\n",
       "}\n",
       "\n",
       ".sk-estimator-doc-link:hover span {\n",
       "  display: block;\n",
       "}\n",
       "\n",
       "/* \"?\"-specific style due to the `<a>` HTML tag */\n",
       "\n",
       "#sk-container-id-2 a.estimator_doc_link {\n",
       "  float: right;\n",
       "  font-size: 1rem;\n",
       "  line-height: 1em;\n",
       "  font-family: monospace;\n",
       "  background-color: var(--sklearn-color-background);\n",
       "  border-radius: 1rem;\n",
       "  height: 1rem;\n",
       "  width: 1rem;\n",
       "  text-decoration: none;\n",
       "  /* unfitted */\n",
       "  color: var(--sklearn-color-unfitted-level-1);\n",
       "  border: var(--sklearn-color-unfitted-level-1) 1pt solid;\n",
       "}\n",
       "\n",
       "#sk-container-id-2 a.estimator_doc_link.fitted {\n",
       "  /* fitted */\n",
       "  border: var(--sklearn-color-fitted-level-1) 1pt solid;\n",
       "  color: var(--sklearn-color-fitted-level-1);\n",
       "}\n",
       "\n",
       "/* On hover */\n",
       "#sk-container-id-2 a.estimator_doc_link:hover {\n",
       "  /* unfitted */\n",
       "  background-color: var(--sklearn-color-unfitted-level-3);\n",
       "  color: var(--sklearn-color-background);\n",
       "  text-decoration: none;\n",
       "}\n",
       "\n",
       "#sk-container-id-2 a.estimator_doc_link.fitted:hover {\n",
       "  /* fitted */\n",
       "  background-color: var(--sklearn-color-fitted-level-3);\n",
       "}\n",
       "</style><div id=\"sk-container-id-2\" class=\"sk-top-container\"><div class=\"sk-text-repr-fallback\"><pre>CountVectorizer(stop_words=&#x27;english&#x27;)</pre><b>In a Jupyter environment, please rerun this cell to show the HTML representation or trust the notebook. <br />On GitHub, the HTML representation is unable to render, please try loading this page with nbviewer.org.</b></div><div class=\"sk-container\" hidden><div class=\"sk-item\"><div class=\"sk-estimator  sk-toggleable\"><input class=\"sk-toggleable__control sk-hidden--visually\" id=\"sk-estimator-id-2\" type=\"checkbox\" checked><label for=\"sk-estimator-id-2\" class=\"sk-toggleable__label  sk-toggleable__label-arrow\"><div><div>CountVectorizer</div></div><div><a class=\"sk-estimator-doc-link \" rel=\"noreferrer\" target=\"_blank\" href=\"https://scikit-learn.org/1.6/modules/generated/sklearn.feature_extraction.text.CountVectorizer.html\">?<span>Documentation for CountVectorizer</span></a><span class=\"sk-estimator-doc-link \">i<span>Not fitted</span></span></div></label><div class=\"sk-toggleable__content \"><pre>CountVectorizer(stop_words=&#x27;english&#x27;)</pre></div> </div></div></div></div>"
      ],
      "text/plain": [
       "CountVectorizer(stop_words='english')"
      ]
     },
     "execution_count": 49,
     "metadata": {},
     "output_type": "execute_result"
    }
   ],
   "source": [
    "vectorizer = CountVectorizer(stop_words='english')\n",
    "vectorizer"
   ]
  },
  {
   "cell_type": "code",
   "execution_count": 50,
   "metadata": {},
   "outputs": [
    {
     "data": {
      "text/plain": [
       "array([[1, 0, 0, ..., 0, 0, 0],\n",
       "       [0, 0, 0, ..., 0, 0, 0],\n",
       "       [0, 0, 0, ..., 0, 1, 0],\n",
       "       [0, 0, 0, ..., 0, 0, 0],\n",
       "       [0, 0, 0, ..., 0, 0, 0]])"
      ]
     },
     "execution_count": 50,
     "metadata": {},
     "output_type": "execute_result"
    }
   ],
   "source": [
    "x = vectorizer.fit_transform(df_agrupado[\"reseñas\"]).toarray()\n",
    "x[:5]"
   ]
  },
  {
   "cell_type": "code",
   "execution_count": 51,
   "metadata": {},
   "outputs": [
    {
     "data": {
      "text/plain": [
       "array([[1.        , 0.2226689 , 0.38635951, 0.35870351, 0.35243796,\n",
       "        0.5085839 , 0.18552081, 0.14476882, 0.14607118, 0.24248345,\n",
       "        0.27484731, 0.18105088, 0.22485733, 0.30412029, 0.17525376,\n",
       "        0.1730754 , 0.18623959, 0.18298615, 0.249053  , 0.19885909,\n",
       "        0.16525187, 0.1807131 , 0.21990667, 0.27715217, 0.19940101,\n",
       "        0.38351078, 0.23886942, 0.35472913, 0.19299557, 0.16200401,\n",
       "        0.25650832, 0.23695757, 0.25169871, 0.41890285, 0.27866033,\n",
       "        0.20454886, 0.15218421, 0.20320519, 0.31447329, 0.13534728,\n",
       "        0.17146494, 0.15333024, 0.19504213, 0.26989297, 0.21835127,\n",
       "        0.1583826 , 0.19282282, 0.34975815, 0.18887017, 0.11262926,\n",
       "        0.24705777, 0.22223568, 0.26313668, 0.16900299, 0.25087039,\n",
       "        0.18323017, 0.17377139, 0.81472353, 0.23762583, 0.23484647,\n",
       "        0.20569355, 0.22680309, 0.18243539, 0.29252407, 0.22764655,\n",
       "        0.25600152, 0.20705752, 0.26529732, 0.20509138, 0.31929359,\n",
       "        0.29718729, 0.37206819, 0.19554236, 0.42539575, 0.11596605,\n",
       "        0.27127449, 0.1732972 , 0.23637468, 0.2460153 , 0.30019407,\n",
       "        0.210265  , 0.46872196, 0.27513507, 0.2800376 , 0.18747052,\n",
       "        0.5118133 , 0.17590727, 0.40971902, 0.20023088, 0.16614388,\n",
       "        0.10950869, 0.28934585, 0.13952189, 0.18209906, 0.20331158,\n",
       "        0.21316504, 0.32283947, 0.23448919, 0.3113629 ],\n",
       "       [0.2226689 , 1.        , 0.32068   , 0.30174429, 0.31899784,\n",
       "        0.25197314, 0.23013794, 0.22024819, 0.07554291, 0.35402493,\n",
       "        0.32351474, 0.23720365, 0.38483612, 0.29149807, 0.22759362,\n",
       "        0.31636107, 0.23717578, 0.24026903, 0.34590152, 0.30032061,\n",
       "        0.19418068, 0.25056725, 0.25540419, 0.31917435, 0.22024294,\n",
       "        0.42634639, 0.34329809, 0.31956255, 0.20912572, 0.17632158,\n",
       "        0.29871119, 0.30845011, 0.04820139, 0.30381385, 0.19024016,\n",
       "        0.23608742, 0.20426628, 0.30125572, 0.33870876, 0.1982595 ,\n",
       "        0.49491447, 0.32192278, 0.22489126, 0.36900756, 0.2551556 ,\n",
       "        0.21153595, 0.26082048, 0.30474017, 0.24891931, 0.13309873,\n",
       "        0.26967769, 0.27158547, 0.36205267, 0.2211027 , 0.42022155,\n",
       "        0.20492506, 0.11604581, 0.21800091, 0.3593177 , 0.34056585,\n",
       "        0.35819328, 0.24871313, 0.26413515, 0.31429806, 0.40173276,\n",
       "        0.28749607, 0.32193256, 0.38349869, 0.23350259, 0.26487026,\n",
       "        0.24076151, 0.32812674, 0.2693141 , 0.30696365, 0.12544335,\n",
       "        0.24194374, 0.20403876, 0.36244441, 0.27102569, 0.30510132,\n",
       "        0.35430609, 0.35332145, 0.27775428, 0.28071946, 0.23775108,\n",
       "        0.26063246, 0.22383026, 0.32121788, 0.25463751, 0.23679689,\n",
       "        0.14492982, 0.32349946, 0.24457134, 0.24881478, 0.24861692,\n",
       "        0.26325429, 0.30689481, 0.27003819, 0.29958463],\n",
       "       [0.38635951, 0.32068   , 1.        , 0.39939241, 0.40615996,\n",
       "        0.29330507, 0.2369486 , 0.21709569, 0.17539145, 0.30747072,\n",
       "        0.44113306, 0.23627389, 0.31403781, 0.71036043, 0.23964023,\n",
       "        0.25931869, 0.25126589, 0.25646126, 0.32720485, 0.26381572,\n",
       "        0.18273134, 0.24316219, 0.27929059, 0.36496715, 0.24777286,\n",
       "        0.4465183 , 0.37409984, 0.37366437, 0.25430335, 0.2173339 ,\n",
       "        0.32444403, 0.31212539, 0.07594444, 0.38626615, 0.20315427,\n",
       "        0.28310447, 0.24118154, 0.27930402, 0.40406851, 0.20166691,\n",
       "        0.23131877, 0.24655372, 0.24615672, 0.34833618, 0.28926924,\n",
       "        0.21210758, 0.27065966, 0.41827526, 0.23587572, 0.1761868 ,\n",
       "        0.29110666, 0.32033118, 0.33948606, 0.2575108 , 0.35506863,\n",
       "        0.24750105, 0.17217924, 0.45972867, 0.31820616, 0.29666851,\n",
       "        0.27767199, 0.25596581, 0.28290398, 0.32418109, 0.32397123,\n",
       "        0.32104899, 0.2831714 , 0.34914094, 0.24741974, 0.37640721,\n",
       "        0.40157462, 0.39838803, 0.26839234, 0.44041266, 0.1120095 ,\n",
       "        0.29471044, 0.23238523, 0.37148907, 0.28225281, 0.33840355,\n",
       "        0.27531034, 0.48429258, 0.31142305, 0.33704525, 0.27241263,\n",
       "        0.34695652, 0.22248206, 0.41168427, 0.29105084, 0.25188019,\n",
       "        0.09831444, 0.36970737, 0.18085984, 0.27306279, 0.27013499,\n",
       "        0.29078147, 0.43340095, 0.29033972, 0.34804026],\n",
       "       [0.35870351, 0.30174429, 0.39939241, 1.        , 0.6914136 ,\n",
       "        0.33695293, 0.24723228, 0.2001894 , 0.19339661, 0.32748488,\n",
       "        0.40103073, 0.2359608 , 0.31146477, 0.36567965, 0.22432297,\n",
       "        0.25347118, 0.2473487 , 0.24799034, 0.31730088, 0.24243744,\n",
       "        0.23786505, 0.25716523, 0.27642461, 0.40532351, 0.29099618,\n",
       "        0.45152452, 0.38317761, 0.36949179, 0.20778905, 0.18151793,\n",
       "        0.31513801, 0.35021201, 0.05878937, 0.39716701, 0.20954855,\n",
       "        0.25709822, 0.20465777, 0.25729277, 0.56286611, 0.19080407,\n",
       "        0.2318684 , 0.22030311, 0.28778304, 0.35925822, 0.26837818,\n",
       "        0.18721259, 0.28054112, 0.59397138, 0.23073508, 0.15472589,\n",
       "        0.38113967, 0.40140122, 0.37195015, 0.25620784, 0.36217567,\n",
       "        0.25507099, 0.33010594, 0.32918787, 0.32675811, 0.27016389,\n",
       "        0.28537711, 0.26272303, 0.22049496, 0.32672939, 0.30361893,\n",
       "        0.33955858, 0.31270104, 0.31162765, 0.39687993, 0.42823868,\n",
       "        0.31192347, 0.50421314, 0.23678009, 0.40365413, 0.18655294,\n",
       "        0.35360272, 0.24592732, 0.3649846 , 0.35701063, 0.40872947,\n",
       "        0.28199225, 0.45027399, 0.36728885, 0.3918546 , 0.23064716,\n",
       "        0.36876417, 0.24577064, 0.38309484, 0.25977617, 0.21996337,\n",
       "        0.11909751, 0.38615578, 0.18001331, 0.25419833, 0.28936423,\n",
       "        0.50552839, 0.39787588, 0.35171101, 0.47145847],\n",
       "       [0.35243796, 0.31899784, 0.40615996, 0.6914136 , 1.        ,\n",
       "        0.30735186, 0.26329904, 0.19004616, 0.14038177, 0.34207379,\n",
       "        0.47283832, 0.25000787, 0.32583208, 0.38347443, 0.21929084,\n",
       "        0.25866588, 0.22943378, 0.2463993 , 0.35717297, 0.26494188,\n",
       "        0.21768367, 0.27135017, 0.29661777, 0.35596885, 0.27998008,\n",
       "        0.43840101, 0.34568637, 0.39301926, 0.23878056, 0.18873241,\n",
       "        0.31850688, 0.3118928 , 0.05413125, 0.35320722, 0.22639859,\n",
       "        0.25327322, 0.2083001 , 0.26998143, 0.63842197, 0.1840857 ,\n",
       "        0.25701081, 0.22413494, 0.26732941, 0.36969712, 0.27606386,\n",
       "        0.17827298, 0.29129143, 0.58527458, 0.25602437, 0.13507919,\n",
       "        0.4424312 , 0.52105319, 0.36368226, 0.25584946, 0.36282404,\n",
       "        0.25194147, 0.39303386, 0.30997498, 0.31102409, 0.30613935,\n",
       "        0.30186639, 0.28831407, 0.27153616, 0.38133949, 0.32236322,\n",
       "        0.34596541, 0.29859518, 0.34484768, 0.38000339, 0.40210711,\n",
       "        0.36672143, 0.54740612, 0.26412053, 0.44094495, 0.14875352,\n",
       "        0.34940634, 0.22434237, 0.33653897, 0.41454949, 0.45343616,\n",
       "        0.29008446, 0.46647783, 0.35414964, 0.40431737, 0.23318879,\n",
       "        0.33817125, 0.25274758, 0.41967155, 0.26730994, 0.23357667,\n",
       "        0.12593814, 0.36078534, 0.20009541, 0.24746617, 0.26620495,\n",
       "        0.64419102, 0.42444516, 0.36417122, 0.49376151]])"
      ]
     },
     "execution_count": 51,
     "metadata": {},
     "output_type": "execute_result"
    }
   ],
   "source": [
    "similarity = cosine_similarity(x)\n",
    "similarity[:5]"
   ]
  },
  {
   "cell_type": "markdown",
   "metadata": {},
   "source": [
    "- Extraemos un producto para probarlo"
   ]
  },
  {
   "cell_type": "code",
   "execution_count": 52,
   "metadata": {},
   "outputs": [
    {
     "data": {
      "text/plain": [
       "'(Refurbished) Apple iPhone 7, 32GB, Black - Fully Unlocked'"
      ]
     },
     "execution_count": 52,
     "metadata": {},
     "output_type": "execute_result"
    }
   ],
   "source": [
    "df_agrupado[\"productName\"].iloc[0]"
   ]
  },
  {
   "cell_type": "code",
   "execution_count": 53,
   "metadata": {},
   "outputs": [],
   "source": [
    "user_like_product = df_agrupado[\"productName\"].iloc[0]"
   ]
  },
  {
   "cell_type": "markdown",
   "metadata": {},
   "source": [
    "- Utilizamos las fuciones del src para extraer el index pasandole el nombre del producto. Comprobamos las similitudes a través del index. Enumeramos las coincidencias en una lista y ordenamos."
   ]
  },
  {
   "cell_type": "code",
   "execution_count": 54,
   "metadata": {},
   "outputs": [
    {
     "data": {
      "text/plain": [
       "np.int64(0)"
      ]
     },
     "execution_count": 54,
     "metadata": {},
     "output_type": "execute_result"
    }
   ],
   "source": [
    "product_index = sn.get_index_from_name(df_agrupado, user_like_product)\n",
    "product_index"
   ]
  },
  {
   "cell_type": "code",
   "execution_count": 55,
   "metadata": {},
   "outputs": [
    {
     "data": {
      "text/plain": [
       "array([1.        , 0.2226689 , 0.38635951, 0.35870351, 0.35243796,\n",
       "       0.5085839 , 0.18552081, 0.14476882, 0.14607118, 0.24248345,\n",
       "       0.27484731, 0.18105088, 0.22485733, 0.30412029, 0.17525376,\n",
       "       0.1730754 , 0.18623959, 0.18298615, 0.249053  , 0.19885909])"
      ]
     },
     "execution_count": 55,
     "metadata": {},
     "output_type": "execute_result"
    }
   ],
   "source": [
    "similarity[product_index][:20]"
   ]
  },
  {
   "cell_type": "code",
   "execution_count": 56,
   "metadata": {},
   "outputs": [
    {
     "data": {
      "text/plain": [
       "[(0, np.float64(0.9999999999999998)),\n",
       " (1, np.float64(0.2226688992372565)),\n",
       " (2, np.float64(0.3863595100980089)),\n",
       " (3, np.float64(0.3587035122730526)),\n",
       " (4, np.float64(0.3524379620723738)),\n",
       " (5, np.float64(0.5085839033528518)),\n",
       " (6, np.float64(0.18552081266200066)),\n",
       " (7, np.float64(0.1447688190082909)),\n",
       " (8, np.float64(0.1460711831617506)),\n",
       " (9, np.float64(0.24248344822521567))]"
      ]
     },
     "execution_count": 56,
     "metadata": {},
     "output_type": "execute_result"
    }
   ],
   "source": [
    "simillar_products = list(enumerate(similarity[product_index]))\n",
    "simillar_products[:10]"
   ]
  },
  {
   "cell_type": "code",
   "execution_count": 57,
   "metadata": {},
   "outputs": [
    {
     "data": {
      "text/plain": [
       "[(0, np.float64(0.9999999999999998)),\n",
       " (57, np.float64(0.8147235311272294)),\n",
       " (85, np.float64(0.5118133006089851)),\n",
       " (5, np.float64(0.5085839033528518)),\n",
       " (81, np.float64(0.46872195775435266)),\n",
       " (73, np.float64(0.42539574728302026)),\n",
       " (33, np.float64(0.4189028455219861)),\n",
       " (87, np.float64(0.40971902237957974)),\n",
       " (2, np.float64(0.3863595100980089)),\n",
       " (25, np.float64(0.3835107773318486))]"
      ]
     },
     "execution_count": 57,
     "metadata": {},
     "output_type": "execute_result"
    }
   ],
   "source": [
    "sorted_product = sorted(simillar_products, key=lambda x: x[1], reverse=True)\n",
    "sorted_product[:10]"
   ]
  },
  {
   "cell_type": "markdown",
   "metadata": {},
   "source": [
    "- Extraemos el top 10 productos que más se parecen al que le hemos pasado"
   ]
  },
  {
   "cell_type": "code",
   "execution_count": 58,
   "metadata": {},
   "outputs": [
    {
     "data": {
      "text/plain": [
       "{'Moto G Power | 3-Day Battery1 | Unlocked | Made for US by Motorola | 4/64GB | 16MP Camera | 2020 | Black': np.float64(0.8147235311272294),\n",
       " 'Tile Pro (2020) 1-pack - High Performance Bluetooth Tracker, Keys Finder and Item Locator for Keys, Bags, and More; 400 ft Range, Water Resistance and 1 Year Replaceable Battery': np.float64(0.5118133006089851),\n",
       " 'Ailun Glass Screen Protector Compatible for iPhone 11/iPhone XR, 6.1 Inch 3 Pack Tempered Glass': np.float64(0.5085839033528518),\n",
       " 'TOZO T6 True Wireless Earbuds Bluetooth Headphones Touch Control with Wireless Charging Case IPX8 Waterproof Stereo Earphones in-Ear Built-in Mic Headset Premium Deep Bass for Sport Black': np.float64(0.46872195775435266),\n",
       " 'Samsung Galaxy Buds Plus, True Wireless Earbuds (Wireless Charging Case Included), Black – US Version': np.float64(0.42539574728302026),\n",
       " 'Garmin 010-02064-00 Instinct, Rugged Outdoor Watch with GPS, Features Glonass and Galileo, Heart Rate Monitoring and 3-Axis Compass, Graphite': np.float64(0.4189028455219861),\n",
       " 'Tracki 2021 Model Mini Real time GPS Tracker. Monthly fee required. Full USA & Worldwide Coverage. For Vehicles, Car, Kids, Elderly, child, Dogs & Motorcycles. Magnetic small Portable Tracking Device.': np.float64(0.40971902237957974),\n",
       " 'AKASO EK7000 4K30FPS Action Camera Ultra HD Underwater Camera 170 Degree Wide Angle 98FT Waterproof Camera': np.float64(0.3863595100980089),\n",
       " \"Finishing Touch Flawless Women's Painless Hair Remover , White/Rose Gold\": np.float64(0.3835107773318486),\n",
       " 'Sabrent 4-Port USB 2.0 Hub with Individual LED lit Power Switches (HB-UMLS)': np.float64(0.3720681920081485)}"
      ]
     },
     "execution_count": 58,
     "metadata": {},
     "output_type": "execute_result"
    }
   ],
   "source": [
    "top_products = {}\n",
    "for i in sorted_product[1:11]:\n",
    "    top_products[sn.get_name_from_index(df_agrupado, i[0])] = i[1]\n",
    "top_products"
   ]
  },
  {
   "cell_type": "markdown",
   "metadata": {},
   "source": [
    "- Visualización del top 10 productos más relacionados"
   ]
  },
  {
   "cell_type": "code",
   "execution_count": 59,
   "metadata": {},
   "outputs": [
    {
     "data": {
      "image/png": "[encoded data removed]",
      "text/plain": [
       "<Figure size 1000x600 with 1 Axes>"
      ]
     },
     "metadata": {},
     "output_type": "display_data"
    }
   ],
   "source": [
    "plt.figure(figsize=(10, 6))\n",
    "sns.set_style(\"whitegrid\")\n",
    "\n",
    "sns.barplot(\n",
    "    x=list(top_products.values()),\n",
    "    y=list(top_products.keys()),\n",
    "    palette=\"mako\"\n",
    ")\n",
    "\n",
    "plt.title(\"Top Productos Similares Basado en Contenido\", fontsize=16, pad=20)\n",
    "plt.xlabel(\"Similitud\", fontsize=12)\n",
    "plt.ylabel(\"Productos\", fontsize=12)\n",
    "\n",
    "for i, value in enumerate(top_products.values()):\n",
    "    plt.text(value + 0.02, i, f\"{value:.2f}\", va='center', fontsize=10)\n",
    "\n",
    "plt.tight_layout()"
   ]
  }
 ],
 "metadata": {
  "kernelspec": {
   "display_name": "nlp",
   "language": "python",
   "name": "python3"
  },
  "language_info": {
   "codemirror_mode": {
    "name": "ipython",
    "version": 3
   },
   "file_extension": ".py",
   "mimetype": "text/x-python",
   "name": "python",
   "nbconvert_exporter": "python",
   "pygments_lexer": "ipython3",
   "version": "3.12.7"
  }
 },
 "nbformat": 4,
 "nbformat_minor": 2
}
